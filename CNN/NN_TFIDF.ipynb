{
  "nbformat": 4,
  "nbformat_minor": 0,
  "metadata": {
    "colab": {
      "name": "NN_TFIDF.ipynb",
      "provenance": [],
      "collapsed_sections": [],
      "mount_file_id": "1glkk6Z5U19zHV7ZinetcZ6Ewxo62K3Ga",
      "authorship_tag": "ABX9TyPcO8d3SuP6RqMuHOrsd/vA",
      "include_colab_link": true
    },
    "kernelspec": {
      "name": "python3",
      "display_name": "Python 3"
    },
    "language_info": {
      "name": "python"
    }
  },
  "cells": [
    {
      "cell_type": "markdown",
      "metadata": {
        "id": "view-in-github",
        "colab_type": "text"
      },
      "source": [
        "<a href=\"https://colab.research.google.com/github/Hamoda-dabbit/Mining---classification-in-Arabic-Article/blob/main/CNN/NN_TFIDF.ipynb\" target=\"_parent\"><img src=\"https://colab.research.google.com/assets/colab-badge.svg\" alt=\"Open In Colab\"/></a>"
      ]
    },
    {
      "cell_type": "markdown",
      "source": [
        "**Classification by Neural Network and TfIdfVectorizer**\n",
        "\n",
        "----------"
      ],
      "metadata": {
        "id": "RsFRy0mOXz2p"
      }
    },
    {
      "cell_type": "markdown",
      "metadata": {
        "id": "IAN7PiDfoXor"
      },
      "source": [
        " import library\n",
        "\n",
        "  إستيراد المكتبات"
      ]
    },
    {
      "cell_type": "code",
      "execution_count": 1,
      "metadata": {
        "colab": {
          "base_uri": "https://localhost:8080/"
        },
        "id": "Gh7Z3i1W2fTP",
        "outputId": "23c85dc2-c053-44ff-cb05-3060fed5ba6a"
      },
      "outputs": [
        {
          "output_type": "stream",
          "name": "stderr",
          "text": [
            "[nltk_data] Downloading package stopwords to /root/nltk_data...\n",
            "[nltk_data]   Unzipping corpora/stopwords.zip.\n"
          ]
        }
      ],
      "source": [
        "import warnings\n",
        "warnings.filterwarnings(\"ignore\")\n",
        "import numpy as np\n",
        "import pandas as pd\n",
        "from sklearn.utils import shuffle\n",
        "import nltk\n",
        "nltk.download('stopwords')\n",
        "from nltk.stem.isri import ISRIStemmer\n",
        "import re\n",
        "import string\n",
        "from sklearn.metrics import accuracy_score, precision_recall_fscore_support\n"
      ]
    },
    {
      "cell_type": "markdown",
      "metadata": {
        "id": "SraE-Lyfoe9l"
      },
      "source": [
        "--------\n",
        "\n",
        "**1- Import Data set**"
      ]
    },
    {
      "cell_type": "code",
      "execution_count": 2,
      "metadata": {
        "colab": {
          "base_uri": "https://localhost:8080/",
          "height": 206
        },
        "id": "a0wCUvEf2jLR",
        "outputId": "abd18cef-d86d-4e6c-f3e4-6b3ed0ad5369"
      },
      "outputs": [
        {
          "output_type": "execute_result",
          "data": {
            "text/plain": [
              "                                                text  targe\n",
              "0  أكد وزير الاتصال الناطق الرسمي باسم الحكومة مص...      0\n",
              "1  عبدالاله بوسحابة أخبارنا المغربية أثار فيلم أل...      0\n",
              "2  عبدالاله بوسحابة اخبارنا المغربية أبدى القائمو...      0\n",
              "3  أخبارنا المغربية اختار الفنان المغربي البشير ع...      0\n",
              "4  المادة الأولى على ملك غرناطة القادة الفقهاء ال...      0"
            ],
            "text/html": [
              "\n",
              "  <div id=\"df-1c93b14a-2503-40e3-8c4f-273d90a9e1ba\">\n",
              "    <div class=\"colab-df-container\">\n",
              "      <div>\n",
              "<style scoped>\n",
              "    .dataframe tbody tr th:only-of-type {\n",
              "        vertical-align: middle;\n",
              "    }\n",
              "\n",
              "    .dataframe tbody tr th {\n",
              "        vertical-align: top;\n",
              "    }\n",
              "\n",
              "    .dataframe thead th {\n",
              "        text-align: right;\n",
              "    }\n",
              "</style>\n",
              "<table border=\"1\" class=\"dataframe\">\n",
              "  <thead>\n",
              "    <tr style=\"text-align: right;\">\n",
              "      <th></th>\n",
              "      <th>text</th>\n",
              "      <th>targe</th>\n",
              "    </tr>\n",
              "  </thead>\n",
              "  <tbody>\n",
              "    <tr>\n",
              "      <th>0</th>\n",
              "      <td>أكد وزير الاتصال الناطق الرسمي باسم الحكومة مص...</td>\n",
              "      <td>0</td>\n",
              "    </tr>\n",
              "    <tr>\n",
              "      <th>1</th>\n",
              "      <td>عبدالاله بوسحابة أخبارنا المغربية أثار فيلم أل...</td>\n",
              "      <td>0</td>\n",
              "    </tr>\n",
              "    <tr>\n",
              "      <th>2</th>\n",
              "      <td>عبدالاله بوسحابة اخبارنا المغربية أبدى القائمو...</td>\n",
              "      <td>0</td>\n",
              "    </tr>\n",
              "    <tr>\n",
              "      <th>3</th>\n",
              "      <td>أخبارنا المغربية اختار الفنان المغربي البشير ع...</td>\n",
              "      <td>0</td>\n",
              "    </tr>\n",
              "    <tr>\n",
              "      <th>4</th>\n",
              "      <td>المادة الأولى على ملك غرناطة القادة الفقهاء ال...</td>\n",
              "      <td>0</td>\n",
              "    </tr>\n",
              "  </tbody>\n",
              "</table>\n",
              "</div>\n",
              "      <button class=\"colab-df-convert\" onclick=\"convertToInteractive('df-1c93b14a-2503-40e3-8c4f-273d90a9e1ba')\"\n",
              "              title=\"Convert this dataframe to an interactive table.\"\n",
              "              style=\"display:none;\">\n",
              "        \n",
              "  <svg xmlns=\"http://www.w3.org/2000/svg\" height=\"24px\"viewBox=\"0 0 24 24\"\n",
              "       width=\"24px\">\n",
              "    <path d=\"M0 0h24v24H0V0z\" fill=\"none\"/>\n",
              "    <path d=\"M18.56 5.44l.94 2.06.94-2.06 2.06-.94-2.06-.94-.94-2.06-.94 2.06-2.06.94zm-11 1L8.5 8.5l.94-2.06 2.06-.94-2.06-.94L8.5 2.5l-.94 2.06-2.06.94zm10 10l.94 2.06.94-2.06 2.06-.94-2.06-.94-.94-2.06-.94 2.06-2.06.94z\"/><path d=\"M17.41 7.96l-1.37-1.37c-.4-.4-.92-.59-1.43-.59-.52 0-1.04.2-1.43.59L10.3 9.45l-7.72 7.72c-.78.78-.78 2.05 0 2.83L4 21.41c.39.39.9.59 1.41.59.51 0 1.02-.2 1.41-.59l7.78-7.78 2.81-2.81c.8-.78.8-2.07 0-2.86zM5.41 20L4 18.59l7.72-7.72 1.47 1.35L5.41 20z\"/>\n",
              "  </svg>\n",
              "      </button>\n",
              "      \n",
              "  <style>\n",
              "    .colab-df-container {\n",
              "      display:flex;\n",
              "      flex-wrap:wrap;\n",
              "      gap: 12px;\n",
              "    }\n",
              "\n",
              "    .colab-df-convert {\n",
              "      background-color: #E8F0FE;\n",
              "      border: none;\n",
              "      border-radius: 50%;\n",
              "      cursor: pointer;\n",
              "      display: none;\n",
              "      fill: #1967D2;\n",
              "      height: 32px;\n",
              "      padding: 0 0 0 0;\n",
              "      width: 32px;\n",
              "    }\n",
              "\n",
              "    .colab-df-convert:hover {\n",
              "      background-color: #E2EBFA;\n",
              "      box-shadow: 0px 1px 2px rgba(60, 64, 67, 0.3), 0px 1px 3px 1px rgba(60, 64, 67, 0.15);\n",
              "      fill: #174EA6;\n",
              "    }\n",
              "\n",
              "    [theme=dark] .colab-df-convert {\n",
              "      background-color: #3B4455;\n",
              "      fill: #D2E3FC;\n",
              "    }\n",
              "\n",
              "    [theme=dark] .colab-df-convert:hover {\n",
              "      background-color: #434B5C;\n",
              "      box-shadow: 0px 1px 3px 1px rgba(0, 0, 0, 0.15);\n",
              "      filter: drop-shadow(0px 1px 2px rgba(0, 0, 0, 0.3));\n",
              "      fill: #FFFFFF;\n",
              "    }\n",
              "  </style>\n",
              "\n",
              "      <script>\n",
              "        const buttonEl =\n",
              "          document.querySelector('#df-1c93b14a-2503-40e3-8c4f-273d90a9e1ba button.colab-df-convert');\n",
              "        buttonEl.style.display =\n",
              "          google.colab.kernel.accessAllowed ? 'block' : 'none';\n",
              "\n",
              "        async function convertToInteractive(key) {\n",
              "          const element = document.querySelector('#df-1c93b14a-2503-40e3-8c4f-273d90a9e1ba');\n",
              "          const dataTable =\n",
              "            await google.colab.kernel.invokeFunction('convertToInteractive',\n",
              "                                                     [key], {});\n",
              "          if (!dataTable) return;\n",
              "\n",
              "          const docLinkHtml = 'Like what you see? Visit the ' +\n",
              "            '<a target=\"_blank\" href=https://colab.research.google.com/notebooks/data_table.ipynb>data table notebook</a>'\n",
              "            + ' to learn more about interactive tables.';\n",
              "          element.innerHTML = '';\n",
              "          dataTable['output_type'] = 'display_data';\n",
              "          await google.colab.output.renderOutput(dataTable, element);\n",
              "          const docLink = document.createElement('div');\n",
              "          docLink.innerHTML = docLinkHtml;\n",
              "          element.appendChild(docLink);\n",
              "        }\n",
              "      </script>\n",
              "    </div>\n",
              "  </div>\n",
              "  "
            ]
          },
          "metadata": {},
          "execution_count": 2
        }
      ],
      "source": [
        "# df = pd.read_excel(\"drive/MyDrive/mining/1.xlsx\")\n",
        "# df = pd.read_excel(\"drive/MyDrive/mining/2.xlsx\")\n",
        "# df = pd.read_excel(\"drive/MyDrive/mining/3.xlsx\")\n",
        "df = pd.read_excel(\"drive/MyDrive/mining/4.xlsx\")\n",
        "df.head()"
      ]
    },
    {
      "cell_type": "markdown",
      "metadata": {
        "id": "9m4cKsWI2nhC"
      },
      "source": [
        "------\n",
        "shuffle  \n",
        "بعثرة البيانات"
      ]
    },
    {
      "cell_type": "code",
      "execution_count": 3,
      "metadata": {
        "colab": {
          "base_uri": "https://localhost:8080/",
          "height": 424
        },
        "id": "4dI9bE4n2pVY",
        "outputId": "9eeba5b3-f708-4819-9073-ae78eb59cc05"
      },
      "outputs": [
        {
          "output_type": "execute_result",
          "data": {
            "text/plain": [
              "                                                    text  targe\n",
              "41532  أجمع خبراء مغاربة من الكفاءات المستقر بالولايا...      2\n",
              "33231  رحب الدولي المغربي ومدافع نادي بايرن ميونيخ ال...      4\n",
              "5554   تمكنت مصالح أمن الفنيدق من اعتقال شخص وبحوزته ...      1\n",
              "29913  ميلود بلقاضي أكدت نتائج الانتخابات الجماعية وا...      3\n",
              "12040  أخبارنا المغربية وصف عبد العزيز أفتاتي القيادي...      3\n",
              "...                                                  ...    ...\n",
              "55985  شهدت مكناس خلال الأسبوعين الأخيرين تسجيل أربع ...      1\n",
              "39586  أطلقت المنطقة الأمنية بعمالة أنفا بالبيضاء زوا...      1\n",
              "36283  بعد إعلان تأجيل طرحها لأغنيتها الجديدة منك ولا...      0\n",
              "18939  يبدو أن العلاقات المتوترة خلال الأسابيع القليل...      0\n",
              "45156  أكد الوزير الأول الفرنسي مانويل فالس مجددا الي...      3\n",
              "\n",
              "[68690 rows x 2 columns]"
            ],
            "text/html": [
              "\n",
              "  <div id=\"df-b86e2f70-ad19-4494-b98d-eb4f8f7a483e\">\n",
              "    <div class=\"colab-df-container\">\n",
              "      <div>\n",
              "<style scoped>\n",
              "    .dataframe tbody tr th:only-of-type {\n",
              "        vertical-align: middle;\n",
              "    }\n",
              "\n",
              "    .dataframe tbody tr th {\n",
              "        vertical-align: top;\n",
              "    }\n",
              "\n",
              "    .dataframe thead th {\n",
              "        text-align: right;\n",
              "    }\n",
              "</style>\n",
              "<table border=\"1\" class=\"dataframe\">\n",
              "  <thead>\n",
              "    <tr style=\"text-align: right;\">\n",
              "      <th></th>\n",
              "      <th>text</th>\n",
              "      <th>targe</th>\n",
              "    </tr>\n",
              "  </thead>\n",
              "  <tbody>\n",
              "    <tr>\n",
              "      <th>41532</th>\n",
              "      <td>أجمع خبراء مغاربة من الكفاءات المستقر بالولايا...</td>\n",
              "      <td>2</td>\n",
              "    </tr>\n",
              "    <tr>\n",
              "      <th>33231</th>\n",
              "      <td>رحب الدولي المغربي ومدافع نادي بايرن ميونيخ ال...</td>\n",
              "      <td>4</td>\n",
              "    </tr>\n",
              "    <tr>\n",
              "      <th>5554</th>\n",
              "      <td>تمكنت مصالح أمن الفنيدق من اعتقال شخص وبحوزته ...</td>\n",
              "      <td>1</td>\n",
              "    </tr>\n",
              "    <tr>\n",
              "      <th>29913</th>\n",
              "      <td>ميلود بلقاضي أكدت نتائج الانتخابات الجماعية وا...</td>\n",
              "      <td>3</td>\n",
              "    </tr>\n",
              "    <tr>\n",
              "      <th>12040</th>\n",
              "      <td>أخبارنا المغربية وصف عبد العزيز أفتاتي القيادي...</td>\n",
              "      <td>3</td>\n",
              "    </tr>\n",
              "    <tr>\n",
              "      <th>...</th>\n",
              "      <td>...</td>\n",
              "      <td>...</td>\n",
              "    </tr>\n",
              "    <tr>\n",
              "      <th>55985</th>\n",
              "      <td>شهدت مكناس خلال الأسبوعين الأخيرين تسجيل أربع ...</td>\n",
              "      <td>1</td>\n",
              "    </tr>\n",
              "    <tr>\n",
              "      <th>39586</th>\n",
              "      <td>أطلقت المنطقة الأمنية بعمالة أنفا بالبيضاء زوا...</td>\n",
              "      <td>1</td>\n",
              "    </tr>\n",
              "    <tr>\n",
              "      <th>36283</th>\n",
              "      <td>بعد إعلان تأجيل طرحها لأغنيتها الجديدة منك ولا...</td>\n",
              "      <td>0</td>\n",
              "    </tr>\n",
              "    <tr>\n",
              "      <th>18939</th>\n",
              "      <td>يبدو أن العلاقات المتوترة خلال الأسابيع القليل...</td>\n",
              "      <td>0</td>\n",
              "    </tr>\n",
              "    <tr>\n",
              "      <th>45156</th>\n",
              "      <td>أكد الوزير الأول الفرنسي مانويل فالس مجددا الي...</td>\n",
              "      <td>3</td>\n",
              "    </tr>\n",
              "  </tbody>\n",
              "</table>\n",
              "<p>68690 rows × 2 columns</p>\n",
              "</div>\n",
              "      <button class=\"colab-df-convert\" onclick=\"convertToInteractive('df-b86e2f70-ad19-4494-b98d-eb4f8f7a483e')\"\n",
              "              title=\"Convert this dataframe to an interactive table.\"\n",
              "              style=\"display:none;\">\n",
              "        \n",
              "  <svg xmlns=\"http://www.w3.org/2000/svg\" height=\"24px\"viewBox=\"0 0 24 24\"\n",
              "       width=\"24px\">\n",
              "    <path d=\"M0 0h24v24H0V0z\" fill=\"none\"/>\n",
              "    <path d=\"M18.56 5.44l.94 2.06.94-2.06 2.06-.94-2.06-.94-.94-2.06-.94 2.06-2.06.94zm-11 1L8.5 8.5l.94-2.06 2.06-.94-2.06-.94L8.5 2.5l-.94 2.06-2.06.94zm10 10l.94 2.06.94-2.06 2.06-.94-2.06-.94-.94-2.06-.94 2.06-2.06.94z\"/><path d=\"M17.41 7.96l-1.37-1.37c-.4-.4-.92-.59-1.43-.59-.52 0-1.04.2-1.43.59L10.3 9.45l-7.72 7.72c-.78.78-.78 2.05 0 2.83L4 21.41c.39.39.9.59 1.41.59.51 0 1.02-.2 1.41-.59l7.78-7.78 2.81-2.81c.8-.78.8-2.07 0-2.86zM5.41 20L4 18.59l7.72-7.72 1.47 1.35L5.41 20z\"/>\n",
              "  </svg>\n",
              "      </button>\n",
              "      \n",
              "  <style>\n",
              "    .colab-df-container {\n",
              "      display:flex;\n",
              "      flex-wrap:wrap;\n",
              "      gap: 12px;\n",
              "    }\n",
              "\n",
              "    .colab-df-convert {\n",
              "      background-color: #E8F0FE;\n",
              "      border: none;\n",
              "      border-radius: 50%;\n",
              "      cursor: pointer;\n",
              "      display: none;\n",
              "      fill: #1967D2;\n",
              "      height: 32px;\n",
              "      padding: 0 0 0 0;\n",
              "      width: 32px;\n",
              "    }\n",
              "\n",
              "    .colab-df-convert:hover {\n",
              "      background-color: #E2EBFA;\n",
              "      box-shadow: 0px 1px 2px rgba(60, 64, 67, 0.3), 0px 1px 3px 1px rgba(60, 64, 67, 0.15);\n",
              "      fill: #174EA6;\n",
              "    }\n",
              "\n",
              "    [theme=dark] .colab-df-convert {\n",
              "      background-color: #3B4455;\n",
              "      fill: #D2E3FC;\n",
              "    }\n",
              "\n",
              "    [theme=dark] .colab-df-convert:hover {\n",
              "      background-color: #434B5C;\n",
              "      box-shadow: 0px 1px 3px 1px rgba(0, 0, 0, 0.15);\n",
              "      filter: drop-shadow(0px 1px 2px rgba(0, 0, 0, 0.3));\n",
              "      fill: #FFFFFF;\n",
              "    }\n",
              "  </style>\n",
              "\n",
              "      <script>\n",
              "        const buttonEl =\n",
              "          document.querySelector('#df-b86e2f70-ad19-4494-b98d-eb4f8f7a483e button.colab-df-convert');\n",
              "        buttonEl.style.display =\n",
              "          google.colab.kernel.accessAllowed ? 'block' : 'none';\n",
              "\n",
              "        async function convertToInteractive(key) {\n",
              "          const element = document.querySelector('#df-b86e2f70-ad19-4494-b98d-eb4f8f7a483e');\n",
              "          const dataTable =\n",
              "            await google.colab.kernel.invokeFunction('convertToInteractive',\n",
              "                                                     [key], {});\n",
              "          if (!dataTable) return;\n",
              "\n",
              "          const docLinkHtml = 'Like what you see? Visit the ' +\n",
              "            '<a target=\"_blank\" href=https://colab.research.google.com/notebooks/data_table.ipynb>data table notebook</a>'\n",
              "            + ' to learn more about interactive tables.';\n",
              "          element.innerHTML = '';\n",
              "          dataTable['output_type'] = 'display_data';\n",
              "          await google.colab.output.renderOutput(dataTable, element);\n",
              "          const docLink = document.createElement('div');\n",
              "          docLink.innerHTML = docLinkHtml;\n",
              "          element.appendChild(docLink);\n",
              "        }\n",
              "      </script>\n",
              "    </div>\n",
              "  </div>\n",
              "  "
            ]
          },
          "metadata": {},
          "execution_count": 3
        }
      ],
      "source": [
        "df=shuffle(df)\n",
        "df"
      ]
    },
    {
      "cell_type": "markdown",
      "metadata": {
        "id": "mo35ApRl2wZ1"
      },
      "source": [
        "------\n",
        "**2- Clean Data**\n",
        "\n",
        "تنظيف البيانات"
      ]
    },
    {
      "cell_type": "code",
      "execution_count": 4,
      "metadata": {
        "colab": {
          "base_uri": "https://localhost:8080/"
        },
        "id": "x7Jkd1C_2ya8",
        "outputId": "25039d2d-d5bf-4928-f776-87e2921579f6"
      },
      "outputs": [
        {
          "output_type": "stream",
          "name": "stdout",
          "text": [
            "378\n",
            "0\n",
            "text     True\n",
            "targe    True\n",
            "dtype: bool\n",
            "68690\n",
            "                                                    text  targe\n",
            "41532  اجمع خبراء مغاربه من الكفاءات المستقر بالولايا...      2\n",
            "33231  رحب الدولي المغربي ومدافع نادي بايرن ميونيخ ال...      4\n",
            "5554   تمكنت مصالح امن الفنيدق من اعتقال شخص وبحوزته ...      1\n",
            "29913  ميلود بلقاضي اكدت نتائج الانتخابات الجماعيه وا...      3\n",
            "12040  اخبارنا المغربيه وصف عبد العزيز افتاتي القيادي...      3\n",
            "...                                                  ...    ...\n",
            "55985  شهدت مكناس خلال الاسبوعين الاخيرين تسجيل اربع ...      1\n",
            "39586  اطلقت المنطقه الامنيه بعماله انفا بالبيضاء زوا...      1\n",
            "36283  بعد اعلان تاجيل طرحها لاغنيتها الجديده منك ولا...      0\n",
            "18939  يبدو ان العلاقات المتوتره خلال الاسابيع القليل...      0\n",
            "45156  اكد الوزير الاول الفرنسي مانويل فالس مجدا اليو...      3\n",
            "\n",
            "[68312 rows x 2 columns]\n"
          ]
        }
      ],
      "source": [
        "print(np.sum(df.isnull().any(axis=1)))\n",
        "\n",
        "clean_df= df.dropna()\n",
        "print(np.sum(clean_df.isnull().any(axis=1)))\n",
        "#-------------\n",
        "print (df.notnull().any(axis = 0))\n",
        "print(len(df))\n",
        "#-------------\n",
        "def remove_hashtag(df, col = 'text'):\n",
        "    for letter in r'#.][!XR':\n",
        "      df[col] = df[col].astype(str).str.replace(letter,'', regex=True)\n",
        "        \n",
        "remove_hashtag(clean_df)\n",
        "clean_df\n",
        "#-------------\n",
        "arabic_punctuations = '''`÷×؛<>_()*&^%][ـ،/:\"؟.,'{}~¦+|!”…“–ـ'''\n",
        "english_punctuations = string.punctuation\n",
        "punctuations_list = arabic_punctuations + english_punctuations\n",
        "\n",
        "def remove_punctuations(text):\n",
        "    translator = str.maketrans('', '', punctuations_list)\n",
        "    return text.translate(translator)\n",
        "#-------------\n",
        "def normalize_arabic(text):\n",
        "    text = re.sub(\"[إأآا]\", \"ا\", text)\n",
        "    text = re.sub(\"ى\", \"ي\", text)\n",
        "    text = re.sub(\"ة\", \"ه\", text)\n",
        "    text = re.sub(\"گ\", \"ك\", text)\n",
        "    return text\n",
        "#-------------    \n",
        "def remove_repeating_char(text):\n",
        "    return re.sub(r'(.)\\1+', r'\\1', text)\n",
        "#-------------\n",
        "def processDocument(doc, stemmer): \n",
        "\n",
        "    #Replace @username with empty string\n",
        "    doc = re.sub(r'@[^\\s]+', ' ', doc)\n",
        "    doc = re.sub(r'_', ' ', doc)\n",
        "    doc = re.sub(r'\\n', ' ', doc)\n",
        "    doc = re.sub(r'[a-z,A-Z]', '', doc)\n",
        "    doc = re.sub(r'\\d', '', doc)\n",
        "    #Convert www.* or https?://* to \" \"\n",
        "    doc = re.sub('((www\\.[^\\s]+)|(https?://[^\\s]+))',' ',doc)\n",
        "    #Replace #word with word\n",
        "    doc = re.sub(r'#([^\\s]+)', r'\\1', doc)\n",
        "    # remove punctuations\n",
        "    doc= remove_punctuations(doc)\n",
        "    # normalize the tweet\n",
        "    doc= normalize_arabic(doc)\n",
        "    # remove repeated letters\n",
        "    doc=remove_repeating_char(doc)\n",
        "    #stemming\n",
        "    doc = stemmer.stem(doc)\n",
        "    \n",
        "    return doc\n",
        "\n",
        "stemmer = ISRIStemmer()\n",
        "clean_df[\"text\"] = clean_df['text'].apply(lambda x: processDocument(x, stemmer))\n",
        "print(clean_df)"
      ]
    },
    {
      "cell_type": "markdown",
      "source": [
        "---------\n",
        "accuracy calculation function\n",
        "\n",
        "عمل تابع لحساب الدقة"
      ],
      "metadata": {
        "id": "LZBccqYfYN4k"
      }
    },
    {
      "cell_type": "code",
      "source": [
        "def calculate_results(y_true, y_pred):\n",
        "  # Calculate model accuracy\n",
        "  model_accuracy = accuracy_score(y_true, y_pred) * 100\n",
        "  # Calculate model precision, recall and f1 score using \"weighted\" average\n",
        "  model_precision, model_recall, model_f1, _ = precision_recall_fscore_support(y_true, y_pred, average=\"weighted\")\n",
        "  model_results = {\"accuracy\": model_accuracy,\n",
        "                  \"precision\": model_precision,\n",
        "                  \"recall\": model_recall,\n",
        "                  \"f1\": model_f1}\n",
        "  return model_results"
      ],
      "metadata": {
        "id": "W8J6acPEO6A3"
      },
      "execution_count": 5,
      "outputs": []
    },
    {
      "cell_type": "markdown",
      "source": [
        "----------------------\n",
        "**3- Feature Extraction:** TfIdtVectorizer\n",
        "\n",
        "**4- classification:** Neural Network\n",
        "\n",
        "Neural Network & TfIdtVectorizer\n",
        "\n",
        "with Cross validation\n",
        "\n",
        "لتوزيع عينات الاختبار والتأكد من عدم وجود\n",
        "\n",
        "Overfitting"
      ],
      "metadata": {
        "id": "RFJpeLEFYQLw"
      }
    },
    {
      "cell_type": "code",
      "source": [
        "%%time\n",
        "from sklearn.model_selection import StratifiedKFold\n",
        "from keras.models import Sequential\n",
        "from keras import layers\n",
        "from keras.layers import Dense\n",
        "from keras.backend import clear_session\n",
        "from keras.utils.np_utils import to_categorical\n",
        "from sklearn.feature_extraction.text import CountVectorizer\n",
        "\n",
        "x = clean_df['text'].values\n",
        "y = clean_df['targe'].values\n",
        "\n",
        "vectorizer = CountVectorizer()\n",
        "strtfdKFold = StratifiedKFold(n_splits=4)\n",
        "kfold = strtfdKFold.split(x, y)\n",
        "result_NNClassifier=[]\n",
        "#\n",
        "for k, (train_index, test_index) in enumerate(kfold):\n",
        "    X_train, X_test = x[train_index], x[test_index]\n",
        "    y_train, y_test = y[train_index], y[test_index]\n",
        "\n",
        "    vectorizer.fit(X_train)\n",
        "    X_train = vectorizer.transform(X_train)\n",
        "    X_test  = vectorizer.transform(X_test)\n",
        "    y_train = to_categorical(y_train)\n",
        "    y_test = to_categorical(y_test)\n",
        "    input_dim = X_train.shape[1]\n",
        "\n",
        "    model = Sequential()\n",
        "    model.add(layers.Dense(10, input_dim=input_dim, activation='relu'))\n",
        "    model.add(layers.Dense(5, activation='sigmoid'))\n",
        "    model.compile(loss='binary_crossentropy',optimizer='adam',metrics=['accuracy'])\n",
        "    model.summary()\n",
        "    model.fit(X_train, y_train,epochs=2,verbose=True,batch_size=10)#validation_split=0.1,\n",
        "\n",
        "    y_pred=(model.predict(X_test))\n",
        "    y_classes_pre = [np.argmax(y, axis=None, out=None) for y in y_pred]\n",
        "    y_classes_test = [np.argmax(y, axis=None, out=None) for y in y_test]\n",
        "\n",
        "    clear_session()\n",
        "    result_NNClassifier.append(calculate_results(y_classes_test, y_classes_pre))\n",
        "result_NNClassifier"
      ],
      "metadata": {
        "colab": {
          "base_uri": "https://localhost:8080/"
        },
        "id": "OMYruNcgN1kR",
        "outputId": "2ab3eee3-7da7-4df9-cdaa-db9b1ac5c8b3"
      },
      "execution_count": 6,
      "outputs": [
        {
          "output_type": "stream",
          "name": "stdout",
          "text": [
            "Model: \"sequential\"\n",
            "_________________________________________________________________\n",
            " Layer (type)                Output Shape              Param #   \n",
            "=================================================================\n",
            " dense (Dense)               (None, 10)                2883560   \n",
            "                                                                 \n",
            " dense_1 (Dense)             (None, 5)                 55        \n",
            "                                                                 \n",
            "=================================================================\n",
            "Total params: 2,883,615\n",
            "Trainable params: 2,883,615\n",
            "Non-trainable params: 0\n",
            "_________________________________________________________________\n",
            "Epoch 1/2\n",
            "5124/5124 [==============================] - 146s 28ms/step - loss: 0.0886 - accuracy: 0.9407\n",
            "Epoch 2/2\n",
            "5124/5124 [==============================] - 126s 25ms/step - loss: 0.0232 - accuracy: 0.9849\n",
            "Model: \"sequential\"\n",
            "_________________________________________________________________\n",
            " Layer (type)                Output Shape              Param #   \n",
            "=================================================================\n",
            " dense (Dense)               (None, 10)                2875620   \n",
            "                                                                 \n",
            " dense_1 (Dense)             (None, 5)                 55        \n",
            "                                                                 \n",
            "=================================================================\n",
            "Total params: 2,875,675\n",
            "Trainable params: 2,875,675\n",
            "Non-trainable params: 0\n",
            "_________________________________________________________________\n",
            "Epoch 1/2\n",
            "5124/5124 [==============================] - 131s 25ms/step - loss: 0.0928 - accuracy: 0.9392\n",
            "Epoch 2/2\n",
            "5124/5124 [==============================] - 133s 26ms/step - loss: 0.0242 - accuracy: 0.9841\n",
            "Model: \"sequential\"\n",
            "_________________________________________________________________\n",
            " Layer (type)                Output Shape              Param #   \n",
            "=================================================================\n",
            " dense (Dense)               (None, 10)                2877680   \n",
            "                                                                 \n",
            " dense_1 (Dense)             (None, 5)                 55        \n",
            "                                                                 \n",
            "=================================================================\n",
            "Total params: 2,877,735\n",
            "Trainable params: 2,877,735\n",
            "Non-trainable params: 0\n",
            "_________________________________________________________________\n",
            "Epoch 1/2\n",
            "5124/5124 [==============================] - 132s 26ms/step - loss: 0.0905 - accuracy: 0.9400\n",
            "Epoch 2/2\n",
            "5124/5124 [==============================] - 133s 26ms/step - loss: 0.0244 - accuracy: 0.9835\n",
            "Model: \"sequential\"\n",
            "_________________________________________________________________\n",
            " Layer (type)                Output Shape              Param #   \n",
            "=================================================================\n",
            " dense (Dense)               (None, 10)                2871290   \n",
            "                                                                 \n",
            " dense_1 (Dense)             (None, 5)                 55        \n",
            "                                                                 \n",
            "=================================================================\n",
            "Total params: 2,871,345\n",
            "Trainable params: 2,871,345\n",
            "Non-trainable params: 0\n",
            "_________________________________________________________________\n",
            "Epoch 1/2\n",
            "5124/5124 [==============================] - 126s 24ms/step - loss: 0.0952 - accuracy: 0.9365\n",
            "Epoch 2/2\n",
            "5124/5124 [==============================] - 127s 25ms/step - loss: 0.0260 - accuracy: 0.9827\n",
            "CPU times: user 30min 21s, sys: 55.8 s, total: 31min 17s\n",
            "Wall time: 20min 12s\n"
          ]
        }
      ]
    },
    {
      "cell_type": "code",
      "source": [
        "accuracy=0\n",
        "f1=0\n",
        "precision=0\n",
        "recall=0\n",
        "for i in result_NNClassifier:\n",
        "  accuracy+=(i['accuracy'])\n",
        "  f1+=(i['f1'])\n",
        "  precision+=(i['precision'])\n",
        "  recall+=(i['recall'])\n",
        "\n",
        "accuracy=accuracy/len(result_NNClassifier)\n",
        "f1=f1/len(result_NNClassifier)\n",
        "precision=precision/len(result_NNClassifier)\n",
        "recall=recall/len(result_NNClassifier)\n",
        "# (result_DecisionTreeClassifier)\n",
        "results_NNClassifier=[{'accuracy':accuracy,'f1':f1,'precision':precision,'recall':recall}]\n",
        "results_NNClassifier"
      ],
      "metadata": {
        "colab": {
          "base_uri": "https://localhost:8080/"
        },
        "id": "cp5BvptyT-Zp",
        "outputId": "5c37cf93-7d0b-4878-e178-5810180b50a7"
      },
      "execution_count": 7,
      "outputs": [
        {
          "output_type": "execute_result",
          "data": {
            "text/plain": [
              "[{'accuracy': 94.86766600304486,\n",
              "  'f1': 0.9486579350319087,\n",
              "  'precision': 0.9487369108551396,\n",
              "  'recall': 0.9486766600304486}]"
            ]
          },
          "metadata": {},
          "execution_count": 7
        }
      ]
    },
    {
      "cell_type": "markdown",
      "source": [
        "--------\n",
        "-----\n",
        "---------\n",
        "**5- Show Results**\n",
        "\n",
        "النتائج\n",
        "\n",
        "نتائج التدريب لكل قاعدة بيانات"
      ],
      "metadata": {
        "id": "MsQwGuzAY1bt"
      }
    },
    {
      "cell_type": "code",
      "execution_count": 8,
      "metadata": {
        "id": "e-5UX4r2kr7e",
        "outputId": "4edb8ce3-be81-47c9-a6f0-6075ef31fdcc",
        "colab": {
          "base_uri": "https://localhost:8080/"
        }
      },
      "outputs": [
        {
          "output_type": "stream",
          "name": "stdout",
          "text": [
            "NN_Classifier results in dataset 1:\n"
          ]
        },
        {
          "output_type": "execute_result",
          "data": {
            "text/plain": [
              "[{'accuracy': 96.98747812287283,\n",
              "  'f1': 0.9698837872501038,\n",
              "  'precision': 0.9700738423907286,\n",
              "  'recall': 0.9698747812287282}]"
            ]
          },
          "metadata": {},
          "execution_count": 8
        }
      ],
      "source": [
        "print('NN_Classifier results in dataset 1:')\n",
        "results_NNClassifier"
      ]
    },
    {
      "cell_type": "code",
      "execution_count": 8,
      "metadata": {
        "outputId": "b12f249e-91e3-4b06-b71b-bcf2baaf74d5",
        "colab": {
          "base_uri": "https://localhost:8080/"
        },
        "id": "9GxDOfxmUMSE"
      },
      "outputs": [
        {
          "output_type": "stream",
          "name": "stdout",
          "text": [
            "NN_Classifier results in dataset 2:\n"
          ]
        },
        {
          "output_type": "execute_result",
          "data": {
            "text/plain": [
              "[{'accuracy': 96.60548246366895,\n",
              "  'f1': 0.9660867164254162,\n",
              "  'precision': 0.9663066679099584,\n",
              "  'recall': 0.9660548246366893}]"
            ]
          },
          "metadata": {},
          "execution_count": 8
        }
      ],
      "source": [
        "print('NN_Classifier results in dataset 2:')\n",
        "results_NNClassifier"
      ]
    },
    {
      "cell_type": "code",
      "execution_count": 8,
      "metadata": {
        "outputId": "e6012a60-ce84-4b1e-c3b1-24f393da1f93",
        "colab": {
          "base_uri": "https://localhost:8080/"
        },
        "id": "ZU5zPvatUMX7"
      },
      "outputs": [
        {
          "output_type": "stream",
          "name": "stdout",
          "text": [
            "NN_Classifier results in dataset 3:\n"
          ]
        },
        {
          "output_type": "execute_result",
          "data": {
            "text/plain": [
              "[{'accuracy': 95.2237561675953,\n",
              "  'f1': 0.9522674658743284,\n",
              "  'precision': 0.9524456342440347,\n",
              "  'recall': 0.9522375616759529}]"
            ]
          },
          "metadata": {},
          "execution_count": 8
        }
      ],
      "source": [
        "print('NN_Classifier results in dataset 3:')\n",
        "results_NNClassifier"
      ]
    },
    {
      "cell_type": "code",
      "execution_count": 8,
      "metadata": {
        "outputId": "e84fa4d7-29dd-49eb-9869-2034cab32f03",
        "colab": {
          "base_uri": "https://localhost:8080/"
        },
        "id": "hdbDTlg9UMe_"
      },
      "outputs": [
        {
          "output_type": "stream",
          "name": "stdout",
          "text": [
            "NN_Classifier results in dataset 4:\n"
          ]
        },
        {
          "output_type": "execute_result",
          "data": {
            "text/plain": [
              "[{'accuracy': 94.86766600304486,\n",
              "  'f1': 0.9486579350319087,\n",
              "  'precision': 0.9487369108551396,\n",
              "  'recall': 0.9486766600304486}]"
            ]
          },
          "metadata": {},
          "execution_count": 8
        }
      ],
      "source": [
        "print('NN_Classifier results in dataset 4:')\n",
        "results_NNClassifier"
      ]
    },
    {
      "cell_type": "code",
      "source": [
        "Final_Result=[\n",
        "  {'accuracy': 96.98747812287283,\n",
        "  'f1': 0.9698837872501038,\n",
        "  'precision': 0.9700738423907286,\n",
        "  'recall': 0.9698747812287282}\n",
        "  ,\n",
        "  {'accuracy': 96.60548246366895,\n",
        "  'f1': 0.9660867164254162,\n",
        "  'precision': 0.9663066679099584,\n",
        "  'recall': 0.9660548246366893}\n",
        "  ,\n",
        "  {'accuracy': 95.2237561675953,\n",
        "  'f1': 0.9522674658743284,\n",
        "  'precision': 0.9524456342440347,\n",
        "  'recall': 0.9522375616759529}\n",
        "  ,\n",
        "  {'accuracy': 94.86766600304486,\n",
        "  'f1': 0.9486579350319087,\n",
        "  'precision': 0.9487369108551396,\n",
        "  'recall': 0.9486766600304486}\n",
        "  ]\n",
        "\n",
        "accuracy=0\n",
        "f1=0\n",
        "precision=0\n",
        "recall=0\n",
        "for i in Final_Result:\n",
        "  accuracy+=(i['accuracy'])\n",
        "  f1+=(i['f1'])\n",
        "  precision+=(i['precision'])\n",
        "  recall+=(i['recall'])\n",
        "\n",
        "accuracy=accuracy/len(Final_Result)\n",
        "f1=f1/len(Final_Result)\n",
        "precision=precision/len(Final_Result)\n",
        "recall=recall/len(Final_Result)\n",
        "Final_Result=[{'accuracy':accuracy,'f1':f1,'precision':precision,'recall':recall}]\n",
        "print(\"RAM: ,CPU times: user 30min 21s \")\n",
        "print('Final_Result:')\n",
        "(Final_Result)"
      ],
      "metadata": {
        "id": "-lB0leWu1IwK",
        "colab": {
          "base_uri": "https://localhost:8080/"
        },
        "outputId": "1bc43d4c-8431-45f6-85f3-6d83d2c57f18"
      },
      "execution_count": 9,
      "outputs": [
        {
          "output_type": "stream",
          "name": "stdout",
          "text": [
            "RAM: ,CPU times: user 30min 21s \n",
            "Final_Result:\n"
          ]
        },
        {
          "output_type": "execute_result",
          "data": {
            "text/plain": [
              "[{'accuracy': 95.92109568929548,\n",
              "  'f1': 0.9592239761454393,\n",
              "  'precision': 0.9593907638499654,\n",
              "  'recall': 0.9592109568929548}]"
            ]
          },
          "metadata": {},
          "execution_count": 9
        }
      ]
    }
  ]
}